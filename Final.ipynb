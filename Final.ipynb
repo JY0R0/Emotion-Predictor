{
 "cells": [
  {
   "cell_type": "code",
   "execution_count": 5,
   "id": "d5d03459-db54-4b5b-9ef2-8549e3df55ce",
   "metadata": {},
   "outputs": [
    {
     "name": "stderr",
     "output_type": "stream",
     "text": [
      "[nltk_data] Downloading package stopwords to\n",
      "[nltk_data]     C:\\Users\\KIIT\\AppData\\Roaming\\nltk_data...\n",
      "[nltk_data]   Package stopwords is already up-to-date!\n",
      "[nltk_data] Downloading package wordnet to\n",
      "[nltk_data]     C:\\Users\\KIIT\\AppData\\Roaming\\nltk_data...\n",
      "[nltk_data]   Package wordnet is already up-to-date!\n",
      "C:\\Users\\KIIT\\anaconda3\\Lib\\site-packages\\sklearn\\linear_model\\_logistic.py:469: ConvergenceWarning: lbfgs failed to converge (status=1):\n",
      "STOP: TOTAL NO. of ITERATIONS REACHED LIMIT.\n",
      "\n",
      "Increase the number of iterations (max_iter) or scale the data as shown in:\n",
      "    https://scikit-learn.org/stable/modules/preprocessing.html\n",
      "Please also refer to the documentation for alternative solver options:\n",
      "    https://scikit-learn.org/stable/modules/linear_model.html#logistic-regression\n",
      "  n_iter_i = _check_optimize_result(\n"
     ]
    },
    {
     "name": "stdout",
     "output_type": "stream",
     "text": [
      "Logistic Regression Accuracy: 0.6098\n",
      "SVM Accuracy: 0.6314\n",
      "Random Forest Accuracy: 0.6153\n",
      "Best SVM Parameters: {'svm__C': 10, 'svm__kernel': 'rbf'}\n",
      "Best SVM Score: 0.6308616684168171\n"
     ]
    }
   ],
   "source": [
    "import pandas as pd\n",
    "import numpy as np\n",
    "import seaborn as sns\n",
    "import re\n",
    "import neattext.functions as nfx\n",
    "import nltk\n",
    "from nltk.corpus import stopwords\n",
    "from nltk.stem import WordNetLemmatizer\n",
    "from sklearn.model_selection import train_test_split, GridSearchCV\n",
    "from sklearn.pipeline import Pipeline\n",
    "from sklearn.feature_extraction.text import TfidfVectorizer\n",
    "from sklearn.svm import SVC\n",
    "from sklearn.linear_model import LogisticRegression\n",
    "from sklearn.ensemble import RandomForestClassifier\n",
    "\n",
    "# Download necessary NLTK resources\n",
    "nltk.download('stopwords')\n",
    "nltk.download('wordnet')\n",
    "\n",
    "# Load dataset\n",
    "df = pd.read_csv(\"emotion_dataset_raw.csv\", encoding=\"latin1\")\n",
    "\n",
    "# Preprocessing function\n",
    "def preprocess_text(text):\n",
    "    text = text.lower()\n",
    "    text = re.sub(r'[^a-zA-Z\\s]', '', text)\n",
    "    text = nfx.remove_stopwords(text)\n",
    "    lemmatizer = WordNetLemmatizer()\n",
    "    text = ' '.join([lemmatizer.lemmatize(word) for word in text.split()])\n",
    "    return text\n",
    "\n",
    "# Apply preprocessing\n",
    "df['Clean_Text'] = df['Text'].apply(preprocess_text)\n",
    "\n",
    "# Define features and labels\n",
    "X = df['Clean_Text']\n",
    "y = df['Emotion']\n",
    "\n",
    "# Split data\n",
    "X_train, X_test, y_train, y_test = train_test_split(X, y, test_size=0.3, random_state=42)\n",
    "\n",
    "# Define ML models with TF-IDF\n",
    "models = {\n",
    "    'Logistic Regression': Pipeline([('tfidf', TfidfVectorizer()), ('lr', LogisticRegression())]),\n",
    "    'SVM': Pipeline([('tfidf', TfidfVectorizer()), ('svm', SVC(kernel='rbf', C=1.0))]),\n",
    "    'Random Forest': Pipeline([('tfidf', TfidfVectorizer()), ('rf', RandomForestClassifier(n_estimators=100))])\n",
    "}\n",
    "\n",
    "# Train and evaluate models\n",
    "for name, model in models.items():\n",
    "    model.fit(X_train, y_train)\n",
    "    score = model.score(X_test, y_test)\n",
    "    print(f'{name} Accuracy: {score:.4f}')\n",
    "\n",
    "# Hyperparameter tuning for SVM\n",
    "grid_params = {'svm__C': [0.1, 1, 10], 'svm__kernel': ['linear', 'rbf']}\n",
    "grid_search = GridSearchCV(models['SVM'], grid_params, cv=5, scoring='accuracy')\n",
    "grid_search.fit(X_train, y_train)\n",
    "print(\"Best SVM Parameters:\", grid_search.best_params_)\n",
    "print(\"Best SVM Score:\", grid_search.best_score_)\n"
   ]
  },
  {
   "cell_type": "code",
   "execution_count": 21,
   "id": "50ac6265-dbbc-4e05-b975-8e5030c1767a",
   "metadata": {},
   "outputs": [
    {
     "name": "stdout",
     "output_type": "stream",
     "text": [
      "Model trained and saved successfully!\n"
     ]
    }
   ],
   "source": [
    "pipe_lr = Pipeline([\n",
    "    ('tfidf', TfidfVectorizer()),  # Text vectorization\n",
    "    ('svm', SVC(probability=True))  # SVM classifier with probability estimates\n",
    "])\n",
    "\n",
    "# Train the model\n",
    "pipe_lr.fit(X_train, y_train)\n",
    "\n",
    "# Save the trained model\n",
    "joblib.dump(pipe_lr, \"emotion_model.pkl\")\n",
    "\n",
    "print(\"Model trained and saved successfully!\")"
   ]
  },
  {
   "cell_type": "code",
   "execution_count": null,
   "id": "f54d7c4e-21ca-4446-ad61-b72bba5d29e7",
   "metadata": {},
   "outputs": [],
   "source": []
  }
 ],
 "metadata": {
  "kernelspec": {
   "display_name": "Python [conda env:base] *",
   "language": "python",
   "name": "conda-base-py"
  },
  "language_info": {
   "codemirror_mode": {
    "name": "ipython",
    "version": 3
   },
   "file_extension": ".py",
   "mimetype": "text/x-python",
   "name": "python",
   "nbconvert_exporter": "python",
   "pygments_lexer": "ipython3",
   "version": "3.12.7"
  }
 },
 "nbformat": 4,
 "nbformat_minor": 5
}
